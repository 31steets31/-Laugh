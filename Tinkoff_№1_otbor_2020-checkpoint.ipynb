{
 "cells": [
  {
   "cell_type": "code",
   "execution_count": 17,
   "id": "efa0ab3e",
   "metadata": {},
   "outputs": [
    {
     "name": "stdout",
     "output_type": "stream",
     "text": [
      "5\n",
      "GGGA\n",
      "ADSX\n",
      "VCCC\n",
      "SASA\n",
      "GRRG\n",
      "No\n",
      "No\n",
      "No\n",
      "Yes\n",
      "Yes\n"
     ]
    }
   ],
   "source": [
    "T, help_lst, S = int(input()), [], []\n",
    "for i in range(T):\n",
    "    S += [i for i in input().split()]\n",
    "    if (S[i].count(S[i][0], 0, 4) == 2 and S[i].count(S[i][1], 0, 4) == 2 and S[i][0] != S[i][1]) or (S[i].count(S[i][0], 0, 4) == 2 and S[i].count(S[i][2], 0, 4) == 2 and S[i][0] != S[i][2]) or (S[i].count(S[i][0], 0, 4) == 2 and S[i].count(S[i][3], 0, 4) == 2 and S[i][0] != S[i][3]):\n",
    "        help_lst += ['Yes']\n",
    "    else:\n",
    "        help_lst += ['No']\n",
    "for i in range(len(help_lst)):\n",
    "    print(help_lst[i])"
   ]
  }
 ],
 "metadata": {
  "kernelspec": {
   "display_name": "Python 3 (ipykernel)",
   "language": "python",
   "name": "python3"
  },
  "language_info": {
   "codemirror_mode": {
    "name": "ipython",
    "version": 3
   },
   "file_extension": ".py",
   "mimetype": "text/x-python",
   "name": "python",
   "nbconvert_exporter": "python",
   "pygments_lexer": "ipython3",
   "version": "3.9.5"
  }
 },
 "nbformat": 4,
 "nbformat_minor": 5
}
